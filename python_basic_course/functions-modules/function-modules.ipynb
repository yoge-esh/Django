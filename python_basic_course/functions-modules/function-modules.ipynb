{
 "cells": [
  {
   "cell_type": "markdown",
   "metadata": {},
   "source": [
    "# Built in modules"
   ]
  },
  {
   "cell_type": "code",
   "execution_count": null,
   "metadata": {},
   "outputs": [],
   "source": [
    "\n",
    "#os\n",
    "#sys\n",
    "#math\n",
    "#datetime\n",
    "#random\n",
    "import calculator\n",
    "import os \n",
    "import math as m\n",
    "# r = os.getcwd()\n",
    "# a = 'newfolder'\n",
    "# os.mkdir(a)\n",
    "# print(r)\n",
    "\n",
    "\n",
    "\n",
    "# f5 = math.factorial(5)\n",
    "# print(f5)\n",
    "\n",
    "# result = dir(calculator)\n",
    "# print(result)\n",
    "\n",
    "# print(calculator.a)\n",
    "\n",
    "# r = dir(m)\n",
    "# print(r)\n",
    "# print(type(r))\n",
    "\n",
    "#pip install requests\n",
    "import requests"
   ]
  },
  {
   "cell_type": "markdown",
   "metadata": {},
   "source": [
    "Calculator"
   ]
  },
  {
   "cell_type": "code",
   "execution_count": 2,
   "metadata": {},
   "outputs": [],
   "source": [
    "def add(a,b):\n",
    "    return a + b\n",
    "\n",
    "def subtract(a,b):\n",
    "    return a - b\n",
    "\n",
    "def multiply(a,b):\n",
    "    return a * b\n",
    "\n",
    "def divide(a,b):\n",
    "    return a / b\n",
    "\n",
    "a = 10\n",
    "b = 11"
   ]
  },
  {
   "cell_type": "code",
   "execution_count": null,
   "metadata": {},
   "outputs": [],
   "source": [
    "# import calculator  or from calculator import *\n",
    "#from calculator import add, subtract\n",
    "# import calculator as c\n",
    "\n",
    "a = 54\n",
    "b = 9\n",
    "\n",
    "# s\n",
    "# r = add(a,b)\n",
    "# r2 = subtract(a,b)\n",
    "\n",
    "r = c.add(a,b)\n",
    "r2 = c.subtract(a,b)\n",
    "print(f\"The result of adding {a} and {b} is {r}\")\n",
    "print(f\"The result of subtracting {a} and {b} is {r2}\")"
   ]
  },
  {
   "cell_type": "code",
   "execution_count": 4,
   "metadata": {},
   "outputs": [
    {
     "name": "stdout",
     "output_type": "stream",
     "text": [
      "\n"
     ]
    }
   ],
   "source": [
    "a = 4\n",
    "print()"
   ]
  },
  {
   "cell_type": "code",
   "execution_count": 5,
   "metadata": {},
   "outputs": [
    {
     "name": "stdout",
     "output_type": "stream",
     "text": [
      "6\n"
     ]
    }
   ],
   "source": [
    "l = [1, 2, 3,4,9,77]\n",
    "\n",
    "a = len(l)\n",
    "\n",
    "print(a)"
   ]
  },
  {
   "cell_type": "code",
   "execution_count": 6,
   "metadata": {},
   "outputs": [
    {
     "name": "stdout",
     "output_type": "stream",
     "text": [
      "Hello World\n",
      "Hello World\n",
      "Hello World\n"
     ]
    }
   ],
   "source": [
    "def my_func():\n",
    "    print(\"Hello World\")\n",
    "\n",
    "my_func()\n",
    "my_func()\n",
    "my_func()"
   ]
  },
  {
   "cell_type": "code",
   "execution_count": 7,
   "metadata": {},
   "outputs": [
    {
     "name": "stdout",
     "output_type": "stream",
     "text": [
      "hello Bickky\n",
      "hello Coursly\n"
     ]
    }
   ],
   "source": [
    "def hello(a):  #name = \"Bickky\"\n",
    "    print(f\"hello {a}\")\n",
    "\n",
    "b = 'Bickky'\n",
    "hello(b)\n",
    "\n",
    "c = 'Coursly'\n",
    "hello(c)"
   ]
  },
  {
   "cell_type": "code",
   "execution_count": 8,
   "metadata": {},
   "outputs": [
    {
     "name": "stdout",
     "output_type": "stream",
     "text": [
      "hello Coursly\n",
      "hello Bickky\n"
     ]
    }
   ],
   "source": [
    "#default argument\n",
    "def hello2(name=\"Bickky\"):\n",
    "\tprint(f\"hello {name}\")\n",
    "\n",
    "hello2('Coursly')\n",
    "hello2()"
   ]
  },
  {
   "cell_type": "code",
   "execution_count": 10,
   "metadata": {},
   "outputs": [
    {
     "ename": "TypeError",
     "evalue": "hello3() missing 1 required positional argument: 'mname'",
     "output_type": "error",
     "traceback": [
      "\u001b[1;31m---------------------------------------------------------------------------\u001b[0m",
      "\u001b[1;31mTypeError\u001b[0m                                 Traceback (most recent call last)",
      "\u001b[1;32m~\\AppData\\Local\\Temp/ipykernel_1288/1255198890.py\u001b[0m in \u001b[0;36m<module>\u001b[1;34m\u001b[0m\n\u001b[0;32m      7\u001b[0m \u001b[1;31m# hello3('Coursly')\u001b[0m\u001b[1;33m\u001b[0m\u001b[1;33m\u001b[0m\u001b[1;33m\u001b[0m\u001b[0m\n\u001b[0;32m      8\u001b[0m \u001b[1;31m#hello3(lname='nepal',fname='Coursly')\u001b[0m\u001b[1;33m\u001b[0m\u001b[1;33m\u001b[0m\u001b[1;33m\u001b[0m\u001b[0m\n\u001b[1;32m----> 9\u001b[1;33m \u001b[0mhello3\u001b[0m\u001b[1;33m(\u001b[0m\u001b[0mlname\u001b[0m\u001b[1;33m=\u001b[0m\u001b[1;34m'nepal'\u001b[0m\u001b[1;33m,\u001b[0m\u001b[0mfname\u001b[0m\u001b[1;33m=\u001b[0m\u001b[1;34m'Coursly'\u001b[0m\u001b[1;33m)\u001b[0m\u001b[1;33m\u001b[0m\u001b[1;33m\u001b[0m\u001b[0m\n\u001b[0m",
      "\u001b[1;31mTypeError\u001b[0m: hello3() missing 1 required positional argument: 'mname'"
     ]
    }
   ],
   "source": [
    "#keyword arguments\n",
    "def hello3(fname,mname,lname):\n",
    "\tprint(f\"hello {fname} {mname} {lname}\")\n",
    "\n",
    "#hello3('Bickky','Coursly')\n",
    "# hello3('Bickky','')\n",
    "# hello3('Coursly')\n",
    "#hello3(lname='nepal',fname='Coursly')\n",
    "hello3(lname='nepal',fname='Coursly')"
   ]
  },
  {
   "cell_type": "code",
   "execution_count": 11,
   "metadata": {},
   "outputs": [
    {
     "name": "stdout",
     "output_type": "stream",
     "text": [
      "(5, 6, 7, 8, 9)\n",
      "<class 'tuple'>\n",
      "5\n",
      "6\n",
      "7\n",
      "8\n",
      "9\n",
      "('Hello', 'Welcome', 'to', 'Python', 5, 7)\n",
      "<class 'tuple'>\n",
      "Hello\n",
      "Welcome\n",
      "to\n",
      "Python\n",
      "5\n",
      "7\n"
     ]
    }
   ],
   "source": [
    "def myFun(*a):\n",
    "    print(a)\n",
    "    print(type(a))\n",
    "    for e in a:\n",
    "        print(e)\n",
    "\n",
    "myFun(5,6,7,8,9)\n",
    "myFun('Hello', 'Welcome', 'to', 'Python',5,7)\n",
    "# myFun(1,2,3,4)"
   ]
  },
  {
   "cell_type": "code",
   "execution_count": 12,
   "metadata": {},
   "outputs": [
    {
     "name": "stdout",
     "output_type": "stream",
     "text": [
      "{'first': 'Python', 'mid': 'is the best', 'last': 'Programming language'}\n",
      "<class 'dict'>\n",
      "Programming language\n"
     ]
    }
   ],
   "source": [
    "def myFun(**kwargs):\n",
    "\tprint(kwargs)\n",
    "\tprint(type(kwargs))\n",
    "\tprint(kwargs['last'])\n",
    "\n",
    "myFun(first='Python', mid='is the best', last='Programming language')"
   ]
  },
  {
   "cell_type": "code",
   "execution_count": 13,
   "metadata": {},
   "outputs": [
    {
     "name": "stdout",
     "output_type": "stream",
     "text": [
      "hello Bickky, how are you?\n"
     ]
    }
   ],
   "source": [
    "def hello(name):\n",
    "\tresult = f\"hello {name}, how are you?\"\n",
    "\treturn result\n",
    "\n",
    "c = hello('Bickky')\n",
    "print(c)"
   ]
  },
  {
   "cell_type": "code",
   "execution_count": 14,
   "metadata": {},
   "outputs": [
    {
     "name": "stdout",
     "output_type": "stream",
     "text": [
      "9\n"
     ]
    }
   ],
   "source": [
    "def add(a,b):\n",
    "    sum = a+b\n",
    "    return sum\n",
    "  \n",
    "\n",
    "r = add(4,5)\n",
    "a = 6\n",
    "print(r)"
   ]
  },
  {
   "cell_type": "code",
   "execution_count": 15,
   "metadata": {},
   "outputs": [
    {
     "name": "stdout",
     "output_type": "stream",
     "text": [
      "3\n"
     ]
    }
   ],
   "source": [
    "sum = lambda a,b:a+b\n",
    "s = sum(1,2)\n",
    "print(s)"
   ]
  },
  {
   "cell_type": "code",
   "execution_count": 16,
   "metadata": {},
   "outputs": [
    {
     "name": "stdout",
     "output_type": "stream",
     "text": [
      "5\n"
     ]
    }
   ],
   "source": [
    "def absolute(a):\n",
    "    if a >= 0:\n",
    "        return a\n",
    "    else:\n",
    "        return -a \n",
    "\n",
    "r = absolute(-5)\n",
    "print(r)"
   ]
  },
  {
   "cell_type": "code",
   "execution_count": 17,
   "metadata": {},
   "outputs": [
    {
     "name": "stdout",
     "output_type": "stream",
     "text": [
      "3\n",
      "6\n",
      "10\n"
     ]
    }
   ],
   "source": [
    "def add(*a):\n",
    "    sum = 0\n",
    "    for i in a:\n",
    "        sum  = sum + i\n",
    "        \n",
    "    return sum\n",
    "   \n",
    "\n",
    "r1 = add(1,2)\n",
    "r2 = add(1,2,3)\n",
    "r3 = add(1,2,3,4)\n",
    "\n",
    "print(r1)\n",
    "print(r2)\n",
    "print(r3)"
   ]
  },
  {
   "cell_type": "code",
   "execution_count": 18,
   "metadata": {},
   "outputs": [
    {
     "name": "stdout",
     "output_type": "stream",
     "text": [
      "Python\n"
     ]
    }
   ],
   "source": [
    "def func():\n",
    "    s = 'Python' \n",
    "    # print(s)\n",
    "    return s\n",
    "\n",
    "s = 'Django'\n",
    "s = func()\n",
    "print(s)\n",
    "# print(r)"
   ]
  },
  {
   "cell_type": "code",
   "execution_count": 19,
   "metadata": {},
   "outputs": [
    {
     "name": "stdout",
     "output_type": "stream",
     "text": [
      "8\n"
     ]
    }
   ],
   "source": [
    "def cube(y):\n",
    "\treturn y*y*y\n",
    "\n",
    "r = cube(2)\n",
    "print(r)"
   ]
  },
  {
   "cell_type": "code",
   "execution_count": 20,
   "metadata": {},
   "outputs": [
    {
     "name": "stdout",
     "output_type": "stream",
     "text": [
      "8\n"
     ]
    }
   ],
   "source": [
    "l = lambda y:y*y*y\n",
    "\n",
    "r = l(2)\n",
    "print(r)"
   ]
  },
  {
   "cell_type": "code",
   "execution_count": 21,
   "metadata": {},
   "outputs": [],
   "source": [
    "# map()\n",
    "# filter()"
   ]
  },
  {
   "cell_type": "code",
   "execution_count": 22,
   "metadata": {},
   "outputs": [
    {
     "name": "stdout",
     "output_type": "stream",
     "text": [
      "[2, 4, 6, 8, 10]\n"
     ]
    }
   ],
   "source": [
    "#map(function,sequence)\n",
    "\n",
    "l = [1,2,3,4,5]\n",
    "r = list(map(lambda x:x*2,l))\n",
    "print(r)"
   ]
  },
  {
   "cell_type": "code",
   "execution_count": 23,
   "metadata": {},
   "outputs": [
    {
     "name": "stdout",
     "output_type": "stream",
     "text": [
      "[22, 54, 62]\n"
     ]
    }
   ],
   "source": [
    "li = [5, 7, 22, 97, 54, 62, 77, 23, 73, 61]\n",
    "\n",
    "final_list = list(filter(lambda x: (x%2 ==0) , li))\n",
    "print(final_list)"
   ]
  },
  {
   "cell_type": "code",
   "execution_count": null,
   "metadata": {},
   "outputs": [],
   "source": []
  }
 ],
 "metadata": {
  "interpreter": {
   "hash": "d228e4a46486f17535ae5053cd36a1c5beabe34bcabcfa546a6958f5c5d52e5f"
  },
  "kernelspec": {
   "display_name": "Python 3.7.8rc1 64-bit",
   "language": "python",
   "name": "python3"
  },
  "language_info": {
   "codemirror_mode": {
    "name": "ipython",
    "version": 3
   },
   "file_extension": ".py",
   "mimetype": "text/x-python",
   "name": "python",
   "nbconvert_exporter": "python",
   "pygments_lexer": "ipython3",
   "version": "3.7.8rc1"
  },
  "orig_nbformat": 4
 },
 "nbformat": 4,
 "nbformat_minor": 2
}
