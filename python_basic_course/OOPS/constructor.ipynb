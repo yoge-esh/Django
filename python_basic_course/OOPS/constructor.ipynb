{
 "cells": [
  {
   "cell_type": "code",
   "execution_count": 1,
   "metadata": {},
   "outputs": [
    {
     "name": "stdout",
     "output_type": "stream",
     "text": [
      "Car\n",
      "Car\n"
     ]
    }
   ],
   "source": [
    "# Constructor, __init__, Class Variables, Instance Variables, __str__\n",
    "# Construcor is a special method that is called when an object is created.\n",
    "# It is used to initialize the state of the object.\n",
    "\n",
    "# Class variable is a variable that is shared by all the objects of a class.\n",
    "# Class variable is accessible by all the objects of the class.\n",
    "# Class variable is not a part of the object.\n",
    "# Class variable is also known as static variable.\n",
    "\n",
    "# Instance variables are variables whose value is assigned inside a constructor or method with self\n",
    "# Instance variables are accessible by all the objects of the class.\n",
    "# Instance variable is a part of the object.\n",
    "# Instance variable is not shared by all the objects of the class.\n",
    "\n",
    "#__str__ is a special method that is called when an object is converted to a string.\n",
    "# It is used to return a string representation of the object.\n",
    "\n",
    "class Vehicle:\n",
    "    # Class Variable\n",
    "    vehicle_type = 'Car'\n",
    "\n",
    "    # The init method or constructor\n",
    "    def __init__(self, company):\n",
    "        # Instance Variable\n",
    "        self.company = company\n",
    "\n",
    "    # Adds an instance variable\n",
    "    def setColor(self, color):  # def setColor(obj1, \"brown\"):\n",
    "        self.color = color  # Obj1.color = \"brown\"\n",
    "\n",
    "    # Retrieves instance variable\n",
    "    def getColor(self):\t   # def getColor(Obj1):\n",
    "        return self.color  # return Obj1.color\n",
    "\n",
    "    def __str__(self):\n",
    "        return f'{self.company} {self.vehicle_type}'\n",
    "\n",
    " \n",
    "\n",
    "Obj1 = Vehicle(\"BMW\")  #=> \n",
    "Obj1.setColor(\"brown\")  #=> Vehicle.setColor(Obj1, \"brown\")\n",
    "#print(Obj1.getColor())  #=> Vehicle.getColor(Obj1)\n",
    "print(Obj1.vehicle_type)\n",
    "# accessing class variable using class name\n",
    "print(Vehicle.vehicle_type)  #=> \"Car\"\n",
    "\n",
    "# r = Obj1.__str__()  \n",
    "# print(r)\n",
    "# print(type(r))"
   ]
  },
  {
   "cell_type": "code",
   "execution_count": null,
   "metadata": {},
   "outputs": [],
   "source": []
  }
 ],
 "metadata": {
  "interpreter": {
   "hash": "d228e4a46486f17535ae5053cd36a1c5beabe34bcabcfa546a6958f5c5d52e5f"
  },
  "kernelspec": {
   "display_name": "Python 3.7.8rc1 64-bit",
   "language": "python",
   "name": "python3"
  },
  "language_info": {
   "codemirror_mode": {
    "name": "ipython",
    "version": 3
   },
   "file_extension": ".py",
   "mimetype": "text/x-python",
   "name": "python",
   "nbconvert_exporter": "python",
   "pygments_lexer": "ipython3",
   "version": "3.7.8rc1"
  },
  "orig_nbformat": 4
 },
 "nbformat": 4,
 "nbformat_minor": 2
}
