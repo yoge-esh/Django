{
 "cells": [
  {
   "cell_type": "code",
   "execution_count": 1,
   "metadata": {},
   "outputs": [
    {
     "name": "stdout",
     "output_type": "stream",
     "text": [
      "Hello, I am a BMW!\n",
      "Hello, I am a Audi!\n",
      "Hello, I am a Mercedes!\n",
      "Hello, I am a Tesla!\n"
     ]
    }
   ],
   "source": [
    "# Class and Objects\n",
    "# Class is a user defined data type/structure \n",
    "# Class contains data members and member functions\n",
    "# Data members are variables that are part of the class, also called as attributes\n",
    "# Member functions are functions that are part of the class, also called as methods\n",
    "\n",
    "# Objects are instances of a class\n",
    "# Objects can access the data members and member functions of a class\n",
    "\n",
    "# A Single Class can have multiple objects\n",
    "# All the objects of a class share the same data members and member functions\n",
    "# But the objects have different states i.e different values of data members\n",
    "\n",
    "# self is a reference variable that refers to the current instance of the class\n",
    "# class methods must have self as the first argument\n",
    "\n",
    "\n",
    "\"\"\"\n",
    "class syntax:\n",
    "class ClassName:\n",
    "    <statement-1>\n",
    "    .\n",
    "    .\n",
    "    .\n",
    "    <statement-N>\n",
    "object creation:\n",
    "object_name = ClassName()\n",
    "\"\"\"\n",
    "\n",
    "\n",
    "class Car:\n",
    "    # data members/attributes:\n",
    "    a = 'BMW'\n",
    "    b = 'Audi'\n",
    "    c = 'Mercedes'\n",
    "    # members functions/methods:\n",
    "    def bmw(self):\n",
    "        a1 = 'randomcar'\n",
    "        print(f'Hello, I am a {self.a}!')\n",
    "    def audi(self):\n",
    "        print(f'Hello, I am a {self.b}!')\n",
    "    def mercedes(self):\n",
    "        print(f'Hello, I am a {self.c}!')\n",
    "    def tesla(self):\n",
    "        print(f'Hello, I am a Tesla!')\n",
    "\n",
    "obj1 = Car()\n",
    "# obj2 = Car()\n",
    "# obj3 = Car()    \n",
    "\n",
    "# c = obj1.bmw()\n",
    "# print(c)\n",
    "obj1.bmw()  #=>Car.bmw(obj1)\n",
    "# obj1.a\n",
    "obj1.audi()\n",
    "obj1.mercedes()\n",
    "obj1.tesla()  #=> Car.tesla(obj1)\n",
    "\n",
    "# print(obj1.a)\n",
    "# obj1.hello()\n",
    "# obj2.hello()\n",
    "# print(type(obj1))\n",
    "# print(type(obj2))\n"
   ]
  },
  {
   "cell_type": "code",
   "execution_count": null,
   "metadata": {},
   "outputs": [],
   "source": []
  }
 ],
 "metadata": {
  "interpreter": {
   "hash": "d228e4a46486f17535ae5053cd36a1c5beabe34bcabcfa546a6958f5c5d52e5f"
  },
  "kernelspec": {
   "display_name": "Python 3.7.8rc1 64-bit",
   "language": "python",
   "name": "python3"
  },
  "language_info": {
   "codemirror_mode": {
    "name": "ipython",
    "version": 3
   },
   "file_extension": ".py",
   "mimetype": "text/x-python",
   "name": "python",
   "nbconvert_exporter": "python",
   "pygments_lexer": "ipython3",
   "version": "3.7.8rc1"
  },
  "orig_nbformat": 4
 },
 "nbformat": 4,
 "nbformat_minor": 2
}
