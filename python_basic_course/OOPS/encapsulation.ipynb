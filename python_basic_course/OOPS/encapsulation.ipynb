{
 "cells": [
  {
   "cell_type": "code",
   "execution_count": 2,
   "metadata": {},
   "outputs": [
    {
     "name": "stdout",
     "output_type": "stream",
     "text": [
      "Coursly Nepal\n"
     ]
    }
   ],
   "source": [
    "# Encapsulation\n",
    "# Public, private, protected access modifiers\n",
    "#   - public: accessible from anywhere\n",
    "#   - private: accessible only from inside the class \n",
    "#   - protected: accessible only from inside the class and from its subclasses but also can be accessed from outside the class but it a convention not to call protected methods from outside the class\n",
    "#  -private: created using __ (two underscores) before the variable name\n",
    "#  -protected: created using _ (one underscore) before the variable name\n",
    "\n",
    "\n",
    "\n",
    "# class Student:\n",
    "#     schoolName = 'Coursly Nepal' # class attribute\n",
    "\n",
    "#     def __init__(self, name, age):\n",
    "#         self.name=name # instance attribute\n",
    "#         self.age=age # instance attribute\n",
    "\n",
    "\n",
    "\n",
    "# std = Student(\"Yogesh\", 20)\n",
    "# print(std.schoolName)\n",
    "# print(std.name)\n",
    "# std.age = 20\n",
    "# print(std.age)\n",
    "\n",
    "\n",
    "\n",
    "\n",
    "# class Student:\n",
    "#     _schoolName = 'Coursly Nepal' # protected class attribute\n",
    "    \n",
    "#     def __init__(self, name, age):\n",
    "#         self._name=name  # protected instance attribute\n",
    "#         self._age=age # protected instance attribute\n",
    "\n",
    "# std = Student(\"Ujwal\", 20)\n",
    "# print(std._schoolName)\n",
    "# print(std._name)\n",
    "# std.age = 20\n",
    "# print(std._age)\n",
    "\n",
    "\n",
    "\n",
    "\n",
    "class Student:\n",
    "    __schoolName = 'Coursly Nepal' # private class attribute\n",
    "\n",
    "    def __init__(self, name, age):\n",
    "        self.__name=name  # private instance attribute\n",
    "        self.__salary=age # private instance attribute\n",
    "    def __display(self):  # private method\n",
    "\t    print('This is private method.')\n",
    "\n",
    "\n",
    "\n",
    "std = Student(\"Deepen\", 20)\n",
    "# print(std.__schoolName)\n",
    "# print(std.__name)\n",
    "# print(std.__display())\n",
    "\n",
    "#name mangling\n",
    "print(std._Student__schoolName)"
   ]
  },
  {
   "cell_type": "code",
   "execution_count": null,
   "metadata": {},
   "outputs": [],
   "source": []
  }
 ],
 "metadata": {
  "interpreter": {
   "hash": "d228e4a46486f17535ae5053cd36a1c5beabe34bcabcfa546a6958f5c5d52e5f"
  },
  "kernelspec": {
   "display_name": "Python 3.7.8rc1 64-bit",
   "language": "python",
   "name": "python3"
  },
  "language_info": {
   "codemirror_mode": {
    "name": "ipython",
    "version": 3
   },
   "file_extension": ".py",
   "mimetype": "text/x-python",
   "name": "python",
   "nbconvert_exporter": "python",
   "pygments_lexer": "ipython3",
   "version": "3.7.8rc1"
  },
  "orig_nbformat": 4
 },
 "nbformat": 4,
 "nbformat_minor": 2
}
