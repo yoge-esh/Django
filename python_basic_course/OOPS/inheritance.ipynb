{
 "cells": [
  {
   "cell_type": "code",
   "execution_count": 1,
   "metadata": {},
   "outputs": [
    {
     "name": "stdout",
     "output_type": "stream",
     "text": [
      "Bickky False\n",
      "Coursly True\n"
     ]
    }
   ],
   "source": [
    "# Inheritance\n",
    "# Inheritance is a way to create new classes based on existing classes.\n",
    "# It is a way to reuse code.\n",
    "# Iheritance is the capability of one class to derive or inherit the properties(data members/attributes/variables and methods) from another class\n",
    "\n",
    "# Parent class => Base class or Super class\n",
    "# Child class => Sub class or Sub class\n",
    "\n",
    "class Person(object):\n",
    "\tdef __init__(self, name):\n",
    "\t\tself.name = name\n",
    "\n",
    "\tdef getName(self):\n",
    "\t\treturn self.name\n",
    "\n",
    "\tdef isEmployee(self):\n",
    "\t\treturn False\n",
    "\n",
    "\n",
    "# Inherited or Subclass (Note Person in bracket)\n",
    "class Employee(Person):\n",
    "\n",
    "\tdef isEmployee(self):\n",
    "\t\treturn True\n",
    "\n",
    "emp = Person(\"Bickky\") # An Object of Person\n",
    "print(emp.getName(), emp.isEmployee())\n",
    "\n",
    "emp = Employee(\"Coursly\") # An Object of Employee\n",
    "print(emp.getName(), emp.isEmployee())"
   ]
  },
  {
   "cell_type": "code",
   "execution_count": 2,
   "metadata": {},
   "outputs": [
    {
     "name": "stdout",
     "output_type": "stream",
     "text": [
      "Bickky 886012 50000 FullStack Developer\n"
     ]
    }
   ],
   "source": [
    "# Inheritance : Constructor Overriding\n",
    "# Constructor of the parent class is available in the child class.\n",
    "# But if we write constructor in both classes, parent and child class then parent class constructor is not available to the child class.\n",
    "#in this case only child class constructor is accessible which means child class constructor is replacing parent class constructor\n",
    "\n",
    "# Calling Constructor of the parent class in the child class is called constructor overriding.\n",
    "# Constructor with super() => super() is a function that is used to call the constructor of the parent class.\n",
    "\n",
    "\n",
    "# parent class\n",
    "class Person():\n",
    "    # __init__ is known as the constructor\n",
    "    def __init__(self, name, idnumber):\n",
    "        self.name = name\n",
    "        self.idnumber = idnumber\n",
    "\n",
    "    def display(self):\n",
    "        print(self.name)\n",
    "        print(self.idnumber)\n",
    "\n",
    "# child class\n",
    "class Employee(Person):\n",
    "\n",
    "    def __init__(self, name, idnumber, salary, post):\n",
    "        self.salary = salary\n",
    "        self.post = post\n",
    "        # invoking the __init__ of the parent class\n",
    "        Person.__init__(self, name, idnumber)\n",
    "        # or using super()\n",
    "        # super().__init__(name, idnumber)\n",
    "\n",
    "    def display2(self):\n",
    "        print(self.name)\n",
    "        print(self.idnumber)\n",
    "        print(self.salary)\n",
    "        print(self.post)\n",
    "\n",
    "    def __str__(self):\n",
    "        return f'{self.name} {self.idnumber} {self.salary} {self.post}'   \n",
    "\n",
    "# creation of an object variable or an instance\n",
    "a = Employee('Bickky', 886012, 50000, \"FullStack Developer\")\n",
    "\n",
    "# calling a function of the class Person using its instance\n",
    "# a.display()\n",
    "# a.display2()\n",
    "print(a.__str__()) #=> \"Bickky 886012 50000 FullStack Developer\""
   ]
  },
  {
   "cell_type": "code",
   "execution_count": null,
   "metadata": {},
   "outputs": [],
   "source": []
  }
 ],
 "metadata": {
  "interpreter": {
   "hash": "d228e4a46486f17535ae5053cd36a1c5beabe34bcabcfa546a6958f5c5d52e5f"
  },
  "kernelspec": {
   "display_name": "Python 3.7.8rc1 64-bit",
   "language": "python",
   "name": "python3"
  },
  "language_info": {
   "codemirror_mode": {
    "name": "ipython",
    "version": 3
   },
   "file_extension": ".py",
   "mimetype": "text/x-python",
   "name": "python",
   "nbconvert_exporter": "python",
   "pygments_lexer": "ipython3",
   "version": "3.7.8rc1"
  },
  "orig_nbformat": 4
 },
 "nbformat": 4,
 "nbformat_minor": 2
}
