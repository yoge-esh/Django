{
 "cells": [
  {
   "cell_type": "code",
   "execution_count": null,
   "metadata": {},
   "outputs": [],
   "source": [
    "# srthematic operator"
   ]
  },
  {
   "cell_type": "code",
   "execution_count": 1,
   "metadata": {},
   "outputs": [
    {
     "name": "stdout",
     "output_type": "stream",
     "text": [
      "13\n",
      "5\n",
      "36\n",
      "2.25\n",
      "2\n",
      "1\n",
      "6561\n"
     ]
    }
   ],
   "source": [
    "# Examples of Arithmetic Operator\n",
    "# a = '9' \n",
    "# b = '4'\n",
    "a = 9\n",
    "b = 4\n",
    "\n",
    "# Addition of numbers\n",
    "add = a + b  #13\n",
    "\n",
    "# Subtraction of numbers\n",
    "sub = a - b\n",
    "\n",
    "# Multiplication of number\n",
    "mul = a * b\n",
    "\n",
    "# Division(float) of number\n",
    "div1 = a / b  #2.25\n",
    "\n",
    "# Division(floor) of number\n",
    "div2 = a // b\n",
    "\n",
    "# Modulo of both number\n",
    "mod = a % b\n",
    "\n",
    "# Power\n",
    "p = a ** b\n",
    "\n",
    "# print results\n",
    "print(add)\n",
    "print(sub)\n",
    "print(mul)\n",
    "print(div1)\n",
    "print(div2)\n",
    "print(mod)\n",
    "print(p)"
   ]
  },
  {
   "cell_type": "markdown",
   "metadata": {},
   "source": [
    "Comparison Operators"
   ]
  },
  {
   "cell_type": "code",
   "execution_count": 2,
   "metadata": {},
   "outputs": [
    {
     "name": "stdout",
     "output_type": "stream",
     "text": [
      "False\n",
      "False\n",
      "True\n",
      "False\n",
      "True\n",
      "True\n"
     ]
    }
   ],
   "source": [
    "# Examples of Relational Operators\n",
    "a = 13\n",
    "b = 13\n",
    "\n",
    "# a > b is False\n",
    "print(a > b)\n",
    "\n",
    "# a < b is True\n",
    "print(a < b)\n",
    "\n",
    "# a == b is False\n",
    "print(a == b)\n",
    "\n",
    "# a != b is True\n",
    "print(a != b)\n",
    "\n",
    "# a >= b is False\n",
    "print(a >= b)  #a > b or a == b\n",
    "                #false or true => true\n",
    "# a <= b is True\n",
    "print(a <= b)"
   ]
  },
  {
   "cell_type": "markdown",
   "metadata": {},
   "source": [
    "Logical Operators"
   ]
  },
  {
   "cell_type": "code",
   "execution_count": 3,
   "metadata": {},
   "outputs": [
    {
     "name": "stdout",
     "output_type": "stream",
     "text": [
      "<class 'bool'>\n",
      "False\n",
      "True\n",
      "False\n"
     ]
    }
   ],
   "source": [
    "# Examples of Logical Operator\n",
    "a = True\n",
    "b = False\n",
    "\n",
    "print(type(a))\n",
    "\n",
    "print(a and b)\n",
    "\n",
    "\n",
    "print(a or b)\n",
    "\n",
    "\n",
    "print(not a)"
   ]
  },
  {
   "cell_type": "markdown",
   "metadata": {},
   "source": [
    "Assignment Operators"
   ]
  },
  {
   "cell_type": "code",
   "execution_count": 4,
   "metadata": {},
   "outputs": [
    {
     "name": "stdout",
     "output_type": "stream",
     "text": [
      "10\n",
      "12\n",
      "2\n",
      "20\n"
     ]
    }
   ],
   "source": [
    "# Examples of Assignment Operators\n",
    "a = 10\n",
    "\n",
    "# Assign value\n",
    "b = a\n",
    "print(b)\n",
    "\n",
    "# Add and assign value\n",
    "b += 2   #b = b + 2\n",
    "print(b)\n",
    "\n",
    "# Subtract and assign value\n",
    "b -= a   #b = b - a\n",
    "print(b)\n",
    "\n",
    "# multiply and assign\n",
    "b *= a  #b = b * a\n",
    "print(b)"
   ]
  },
  {
   "cell_type": "markdown",
   "metadata": {},
   "source": [
    "Identity Operators"
   ]
  },
  {
   "cell_type": "code",
   "execution_count": 5,
   "metadata": {},
   "outputs": [
    {
     "name": "stdout",
     "output_type": "stream",
     "text": [
      "False\n",
      "True\n",
      "True\n",
      "True\n"
     ]
    }
   ],
   "source": [
    "a = 10\n",
    "b = 20\n",
    "c = a\n",
    "d = 10\n",
    "\n",
    "print(a is b)\n",
    "print(a is not b)\n",
    "print(a is c)\n",
    "print(a is d)"
   ]
  },
  {
   "cell_type": "markdown",
   "metadata": {},
   "source": [
    "Membership Operators"
   ]
  },
  {
   "cell_type": "code",
   "execution_count": 6,
   "metadata": {},
   "outputs": [
    {
     "name": "stdout",
     "output_type": "stream",
     "text": [
      "True\n",
      "False\n"
     ]
    }
   ],
   "source": [
    "# Python program to illustrate\n",
    "# not 'in' operator\n",
    "# x = 24\n",
    "# y = 20\n",
    "# list = [10, 20, 30, 40, 50]\n",
    "\n",
    "# if (x not in list):\n",
    "# \tprint(\"x is NOT present in given list\")\n",
    "# else:\n",
    "# \tprint(\"x is present in given list\")\n",
    "\n",
    "# if (y in list):\n",
    "# \tprint(\"y is present in given list\")\n",
    "# else:\n",
    "# \tprint(\"y is NOT present in given list\")\n",
    "\n",
    "s = 'Python'\n",
    "print('y' in s)\n",
    "\n",
    "l = [10, 20,'20', 30, 40, 50]\n",
    "print('20' not in l)"
   ]
  },
  {
   "cell_type": "markdown",
   "metadata": {},
   "source": [
    "Precedence and Associativity of Operators"
   ]
  },
  {
   "cell_type": "code",
   "execution_count": 7,
   "metadata": {},
   "outputs": [
    {
     "name": "stdout",
     "output_type": "stream",
     "text": [
      "16\n",
      "False\n",
      "True\n"
     ]
    }
   ],
   "source": [
    "#Operator Precedence\n",
    "# Examples of Operator Precedence\n",
    "\n",
    "# Precedence of '+' & '*'\n",
    "expr = 10 + 2 * 3\n",
    "print(expr)\n",
    "\n",
    "# Precedence of 'or' & 'and'\n",
    "name = \"Alex\"\n",
    "age = 0\n",
    "print(name == \"Alex\" and age == 5)\n",
    "print(name == \"Alex\" or name == \"John\" and age >= 2)\n",
    "\n",
    "\n",
    "# if name == \"Alex\" or name == \"John\" and age >= 2:\n",
    "# \tprint(\"Hello! Welcome.\")\n",
    "# else:\n",
    "# \tprint(\"Good Bye!!\")"
   ]
  },
  {
   "cell_type": "code",
   "execution_count": 8,
   "metadata": {},
   "outputs": [
    {
     "name": "stdout",
     "output_type": "stream",
     "text": [
      "100.0\n",
      "6\n",
      "4\n",
      "512\n"
     ]
    }
   ],
   "source": [
    "#Operator Associativity\n",
    "print(100 / 10 * 10)  #left to right\n",
    "print(5 - 2 + 3)  #left to right\n",
    "print(5 + 2 - 3)  #left to right\n",
    "print(2 ** 3 ** 2) #right to left"
   ]
  },
  {
   "cell_type": "code",
   "execution_count": null,
   "metadata": {},
   "outputs": [],
   "source": []
  }
 ],
 "metadata": {
  "interpreter": {
   "hash": "d228e4a46486f17535ae5053cd36a1c5beabe34bcabcfa546a6958f5c5d52e5f"
  },
  "kernelspec": {
   "display_name": "Python 3.7.8rc1 64-bit",
   "language": "python",
   "name": "python3"
  },
  "language_info": {
   "codemirror_mode": {
    "name": "ipython",
    "version": 3
   },
   "file_extension": ".py",
   "mimetype": "text/x-python",
   "name": "python",
   "nbconvert_exporter": "python",
   "pygments_lexer": "ipython3",
   "version": "3.7.8"
  },
  "orig_nbformat": 4
 },
 "nbformat": 4,
 "nbformat_minor": 2
}
