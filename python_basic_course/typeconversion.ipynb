{
 "cells": [
  {
   "cell_type": "markdown",
   "metadata": {},
   "source": [
    "Type Conversion in Python\n",
    "\n",
    "convert one data type to another\n",
    "\n",
    "1. Implicit Type Conversion\n",
    "2. Explicit Type Conversion\n",
    "\n",
    "Implicit Type Conversion\n",
    "- Python will automatically convert one data type to another\n",
    "- Python will not do any type conversion if the data types are the same"
   ]
  },
  {
   "cell_type": "code",
   "execution_count": 1,
   "metadata": {},
   "outputs": [
    {
     "name": "stdout",
     "output_type": "stream",
     "text": [
      "x is of type: <class 'int'>\n",
      "y is of type: <class 'float'>\n",
      "20.6\n",
      "x is of type: <class 'float'>\n"
     ]
    }
   ],
   "source": [
    "x = 10\n",
    " \n",
    "print(\"x is of type:\",type(x))\n",
    " \n",
    "y = 10.6\n",
    "print(\"y is of type:\",type(y))\n",
    " \n",
    "x = x + y\n",
    " \n",
    "print(x)\n",
    "print(\"x is of type:\",type(x))"
   ]
  },
  {
   "cell_type": "markdown",
   "metadata": {},
   "source": [
    "Explicit Type Conversion\n",
    "\n",
    "the data type is manually changed by the user as per their requirement\n",
    "int()  =>converts any data type to integer\n",
    "float() =>convert any data type to a floating-point number \n",
    "str()  =>convert any data type to a string\n",
    "tuple() =>convert any data type to a tuple\n",
    "set() =>convert any data type to a set\n",
    "list() =>convert any data type to a list\n",
    "dict()  =>convert any data type to a dictionary"
   ]
  },
  {
   "cell_type": "code",
   "execution_count": 2,
   "metadata": {},
   "outputs": [
    {
     "name": "stdout",
     "output_type": "stream",
     "text": [
      "123\n",
      "<class 'str'>\n",
      "123\n",
      "<class 'int'>\n",
      "123.0\n",
      "<class 'float'>\n"
     ]
    }
   ],
   "source": [
    "s = '123'\n",
    "print(s)\n",
    "print(type(s))\n",
    "\n",
    "\n",
    "num = int(s)\n",
    "\n",
    "print(num)\n",
    "print(type(num))\n",
    "\n",
    "\n",
    "float_num = float(s)\n",
    "print(float_num)\n",
    "print(type(float_num))"
   ]
  },
  {
   "cell_type": "code",
   "execution_count": 3,
   "metadata": {},
   "outputs": [
    {
     "name": "stdout",
     "output_type": "stream",
     "text": [
      "123\n",
      "123\n",
      "<class 'int'>\n",
      "<class 'str'>\n",
      "123\n",
      "<class 'str'>\n",
      "123123\n",
      "246\n"
     ]
    }
   ],
   "source": [
    "a = 123\n",
    "b = '123'\n",
    "print(a)\n",
    "print(b)\n",
    "print(type(a))\n",
    "print(type(b))\n",
    "\n",
    "s = str(a)\n",
    "print(s)\n",
    "print(type(s))\n",
    "\n",
    "print(s + b)\n",
    "\n",
    "b = int(b)\n",
    "\n",
    "sum = a + b\n",
    "\n",
    "print(sum)\n",
    "\n",
    "#sum  = a + b\n",
    "# sum = int(a) + int(b)\n",
    "# print(sum)\n",
    "# print(type(sum))"
   ]
  },
  {
   "cell_type": "code",
   "execution_count": 4,
   "metadata": {},
   "outputs": [
    {
     "name": "stdout",
     "output_type": "stream",
     "text": [
      "python\n",
      "<class 'str'>\n",
      "['p', 'y', 't', 'h', 'o', 'n']\n",
      "<class 'list'>\n",
      "('p', 'y', 't', 'h', 'o', 'n')\n",
      "<class 'tuple'>\n",
      "{'t', 'p', 'y', 'n', 'h', 'o'}\n",
      "<class 'set'>\n"
     ]
    }
   ],
   "source": [
    "s = 'python'\n",
    "print(s)\n",
    "print(type(s))\n",
    "\n",
    "\n",
    "l = list(s)\n",
    "print(l)\n",
    "print(type(l))\n",
    "\n",
    "\n",
    "\n",
    "t = tuple(s)\n",
    "print(t)\n",
    "print(type(t))\n",
    "\n",
    "\n",
    "\n",
    "s1 = set(s)\n",
    "print(s1)\n",
    "print(type(s1))"
   ]
  },
  {
   "cell_type": "code",
   "execution_count": 5,
   "metadata": {},
   "outputs": [
    {
     "name": "stdout",
     "output_type": "stream",
     "text": [
      "(('a', 1), ('b', 2), ('c', 3))\n",
      "<class 'tuple'>\n",
      "{'a': 1, 'b': 2, 'c': 3}\n",
      "<class 'dict'>\n"
     ]
    }
   ],
   "source": [
    "tup = (('a', 1) ,('b', 2), ('c', 3))\n",
    "print(tup)\n",
    "print(type(tup))\n",
    "d = dict(tup)\n",
    "print(d)\n",
    "print(type(d))"
   ]
  },
  {
   "cell_type": "code",
   "execution_count": 6,
   "metadata": {},
   "outputs": [
    {
     "name": "stdout",
     "output_type": "stream",
     "text": [
      "(('a', 1), ('b', 2), ('c', 3))\n",
      "<class 'tuple'>\n",
      "{'a': 1, 'b': 2, 'c': 3}\n",
      "<class 'dict'>\n"
     ]
    }
   ],
   "source": [
    "tup = (('a', 1) ,('b', 2), ('c', 3))\n",
    "\n",
    "print(tup)\n",
    "print(type(tup))\n",
    "\n",
    "\n",
    "d = dict(tup)\n",
    "\n",
    "print(d)\n",
    "print(type(d))"
   ]
  },
  {
   "cell_type": "code",
   "execution_count": 7,
   "metadata": {},
   "outputs": [
    {
     "name": "stdout",
     "output_type": "stream",
     "text": [
      "3\n"
     ]
    }
   ],
   "source": [
    "print(d['c'])"
   ]
  },
  {
   "cell_type": "code",
   "execution_count": 8,
   "metadata": {},
   "outputs": [
    {
     "name": "stdout",
     "output_type": "stream",
     "text": [
      "{1: 'bickky', 2: 'value', 3: 3}\n",
      "<class 'dict'>\n"
     ]
    }
   ],
   "source": [
    "d = {1:'bickky', 2:'value', 3:3}\n",
    "print(d)\n",
    "print(type(d))"
   ]
  },
  {
   "cell_type": "code",
   "execution_count": 9,
   "metadata": {},
   "outputs": [
    {
     "data": {
      "text/plain": [
       "3"
      ]
     },
     "execution_count": 9,
     "metadata": {},
     "output_type": "execute_result"
    }
   ],
   "source": [
    "d[3]"
   ]
  },
  {
   "cell_type": "code",
   "execution_count": null,
   "metadata": {},
   "outputs": [],
   "source": []
  }
 ],
 "metadata": {
  "interpreter": {
   "hash": "d228e4a46486f17535ae5053cd36a1c5beabe34bcabcfa546a6958f5c5d52e5f"
  },
  "kernelspec": {
   "display_name": "Python 3.7.8rc1 64-bit",
   "language": "python",
   "name": "python3"
  },
  "language_info": {
   "codemirror_mode": {
    "name": "ipython",
    "version": 3
   },
   "file_extension": ".py",
   "mimetype": "text/x-python",
   "name": "python",
   "nbconvert_exporter": "python",
   "pygments_lexer": "ipython3",
   "version": "3.7.8rc1"
  },
  "orig_nbformat": 4
 },
 "nbformat": 4,
 "nbformat_minor": 2
}
