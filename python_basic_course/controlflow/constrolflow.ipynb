{
 "cells": [
  {
   "cell_type": "markdown",
   "metadata": {},
   "source": [
    "Control Flow (loops and conditional statements)\n",
    "\n",
    "Boolean expressions"
   ]
  },
  {
   "cell_type": "code",
   "execution_count": 1,
   "metadata": {},
   "outputs": [
    {
     "name": "stdout",
     "output_type": "stream",
     "text": [
      "False\n",
      "False\n"
     ]
    }
   ],
   "source": [
    "i = 10\n",
    "j = 50\n",
    "print(i > 15)\n",
    "print(i==5 and j < 9)"
   ]
  },
  {
   "cell_type": "markdown",
   "metadata": {},
   "source": [
    "if statement"
   ]
  },
  {
   "cell_type": "code",
   "execution_count": 2,
   "metadata": {},
   "outputs": [
    {
     "name": "stdout",
     "output_type": "stream",
     "text": [
      "10 is less than 15\n",
      "I am Not in if\n"
     ]
    }
   ],
   "source": [
    "i = 100\n",
    "\n",
    "if (i > 15):\n",
    "\tprint(\"10 is less than 15\")\n",
    "\n",
    "\n",
    "print(\"I am Not in if\")"
   ]
  },
  {
   "cell_type": "markdown",
   "metadata": {},
   "source": [
    "if ..else statements"
   ]
  },
  {
   "cell_type": "code",
   "execution_count": 3,
   "metadata": {},
   "outputs": [
    {
     "name": "stdout",
     "output_type": "stream",
     "text": [
      "i is greater than 15\n",
      "i'm in else Block\n",
      "i'm not in if and not in else Block\n"
     ]
    }
   ],
   "source": [
    "i = 20\n",
    "\n",
    "if (i < 15):\n",
    "\tprint(\"i is smaller than 15\")\n",
    "\tprint(\"i'm in if Block\")\n",
    "else:\n",
    "\tprint(\"i is greater than 15\")\n",
    "\tprint(\"i'm in else Block\")\n",
    "\n",
    "print(\"i'm not in if and not in else Block\")"
   ]
  },
  {
   "cell_type": "markdown",
   "metadata": {},
   "source": [
    "if ..elif ..else statements"
   ]
  },
  {
   "cell_type": "code",
   "execution_count": 4,
   "metadata": {},
   "outputs": [
    {
     "name": "stdout",
     "output_type": "stream",
     "text": [
      "i is not present\n"
     ]
    }
   ],
   "source": [
    "i = 2\n",
    "\n",
    "if (i == 10):\n",
    "\tprint(\"i is 10\")\n",
    "elif (i == 15):\n",
    "\tprint(\"i is 15\")\n",
    "elif (i == 20):\n",
    "\tprint(\"i is 20\")\n",
    "else:\n",
    "\tprint(\"i is not present\")"
   ]
  },
  {
   "cell_type": "markdown",
   "metadata": {},
   "source": [
    "for loops"
   ]
  },
  {
   "cell_type": "code",
   "execution_count": 5,
   "metadata": {},
   "outputs": [
    {
     "name": "stdout",
     "output_type": "stream",
     "text": [
      "1\n",
      "2\n",
      "3\n",
      "4\n",
      "5\n"
     ]
    }
   ],
   "source": [
    "s = \"Hello\"\n",
    "\n",
    "# for element in s:\n",
    "#     print(element)\n",
    "\n",
    "l = list(s)\n",
    "\n",
    "# for ele in l:\n",
    "#     print(ele)\n",
    "\n",
    "l2 = [1,2,3,4,5]\n",
    "for a in l2:\n",
    "    print(a)"
   ]
  },
  {
   "cell_type": "code",
   "execution_count": 6,
   "metadata": {},
   "outputs": [
    {
     "name": "stdout",
     "output_type": "stream",
     "text": [
      "web\n",
      "development\n",
      "with django\n",
      "5\n",
      "6\n",
      "7\n",
      "web\n",
      "development\n",
      "with django\n",
      "D\n",
      "j\n",
      "a\n",
      "n\n",
      "g\n",
      "o\n"
     ]
    }
   ],
   "source": [
    "# Python program to illustrate\n",
    "# Iterating over a list\n",
    "l = [\"web\", \"development\", \"with django\",5,6,7]\n",
    "for i in l:\n",
    "\tprint(i)\n",
    "\n",
    "# Iterating over a tuple (immutable)\n",
    "t = (\"web\", \"development\", \"with django\")\n",
    "for i in t:\n",
    "\tprint(i)\n",
    "\n",
    "# Iterating over a String\n",
    "s = \"Django\"\n",
    "for i in s:\n",
    "\tprint(i)"
   ]
  },
  {
   "cell_type": "code",
   "execution_count": 7,
   "metadata": {},
   "outputs": [
    {
     "name": "stdout",
     "output_type": "stream",
     "text": [
      "a : 100\n",
      "b : 200\n",
      "c : 300\n"
     ]
    }
   ],
   "source": [
    "# Iterating over dictionary\n",
    "d = {'a': 100, 'b': 200, 'c': 300}\n",
    "\n",
    "for i in d:\n",
    "#   print(f\"{i} : {d[i]}\")\n",
    "    print(f\"{i} : {d[i]}\")"
   ]
  },
  {
   "cell_type": "markdown",
   "metadata": {},
   "source": [
    "while loops"
   ]
  },
  {
   "cell_type": "code",
   "execution_count": 8,
   "metadata": {},
   "outputs": [
    {
     "name": "stdout",
     "output_type": "stream",
     "text": [
      "Hello there\n"
     ]
    }
   ],
   "source": [
    "# Python program to illustrate\n",
    "# while loop\n",
    "count = 2\n",
    "while (count < 3):  # 0<3 ->True, 1<3, 2<3, 3<3\n",
    "\tcount = count + 1\n",
    "\tprint(\"Hello there\")"
   ]
  },
  {
   "cell_type": "markdown",
   "metadata": {},
   "source": [
    "break and continue statements"
   ]
  },
  {
   "cell_type": "code",
   "execution_count": 9,
   "metadata": {},
   "outputs": [
    {
     "name": "stdout",
     "output_type": "stream",
     "text": [
      "w\n",
      "e\n",
      "b\n",
      "d\n",
      "e\n",
      "v\n",
      "e\n",
      "l\n",
      "Out of for loop\n"
     ]
    }
   ],
   "source": [
    "text = 'webdevelopmentwithdjango'\n",
    "\n",
    "for i in text:\n",
    "\tif i == 'o':\n",
    "\t\tbreak\n",
    "\tprint(i)\n",
    "\n",
    "\n",
    "print(\"Out of for loop\")\n",
    "# print()"
   ]
  },
  {
   "cell_type": "code",
   "execution_count": 10,
   "metadata": {},
   "outputs": [
    {
     "name": "stdout",
     "output_type": "stream",
     "text": [
      "w\n",
      "b\n",
      "d\n",
      "v\n",
      "l\n",
      "o\n",
      "m\n",
      "n\n",
      "t\n",
      "w\n",
      "i\n",
      "t\n",
      "h\n",
      "d\n",
      "j\n",
      "a\n",
      "n\n",
      "g\n",
      "o\n",
      "Out of for loop\n",
      "\n"
     ]
    }
   ],
   "source": [
    "text = 'webdevelopmentwithdjango'\n",
    "\n",
    "for letter in text:\n",
    "\tif letter == 'e' or letter == 'p':\n",
    "\t\tcontinue\n",
    "\tprint(letter)\n",
    "\n",
    "print(\"Out of for loop\")\n",
    "print()"
   ]
  },
  {
   "cell_type": "code",
   "execution_count": 11,
   "metadata": {},
   "outputs": [
    {
     "name": "stdout",
     "output_type": "stream",
     "text": [
      "b\n",
      "c\n",
      "d\n"
     ]
    }
   ],
   "source": [
    "li =['a', 'b', 'c', 'd']\n",
    "\n",
    "for i in li:\n",
    "\tif(i =='a'):\n",
    "\t\tpass\n",
    "\telse:\n",
    "\t\tprint(i)"
   ]
  },
  {
   "cell_type": "code",
   "execution_count": null,
   "metadata": {},
   "outputs": [],
   "source": []
  }
 ],
 "metadata": {
  "interpreter": {
   "hash": "d228e4a46486f17535ae5053cd36a1c5beabe34bcabcfa546a6958f5c5d52e5f"
  },
  "kernelspec": {
   "display_name": "Python 3.7.8rc1 64-bit",
   "language": "python",
   "name": "python3"
  },
  "language_info": {
   "codemirror_mode": {
    "name": "ipython",
    "version": 3
   },
   "file_extension": ".py",
   "mimetype": "text/x-python",
   "name": "python",
   "nbconvert_exporter": "python",
   "pygments_lexer": "ipython3",
   "version": "3.7.8rc1"
  },
  "orig_nbformat": 4
 },
 "nbformat": 4,
 "nbformat_minor": 2
}
